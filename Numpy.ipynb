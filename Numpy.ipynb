{
 "cells": [
  {
   "cell_type": "code",
   "execution_count": 1,
   "id": "52d8d84d-eee2-457a-80b4-ad7d54526fed",
   "metadata": {},
   "outputs": [],
   "source": [
    "import numpy as np \n"
   ]
  },
  {
   "cell_type": "code",
   "execution_count": 2,
   "id": "27bfb91c-7fbc-42cc-9baa-d6381c46b0e5",
   "metadata": {},
   "outputs": [
    {
     "name": "stdout",
     "output_type": "stream",
     "text": [
      "2800\n"
     ]
    }
   ],
   "source": [
    "lista = range(100)\n",
    "arr11= np.arange(100)\n",
    "import sys \n",
    "print(sys.getsizeof(87)*len(lista))"
   ]
  },
  {
   "cell_type": "markdown",
   "id": "bdd4a001-3391-4c53-a8db-14f358c59c02",
   "metadata": {},
   "source": [
    "Numpy array are faster as compared to list\n",
    "here time module se hum ye pata kr sakte h ki normally aur numpy array ko use krnemai kita time lgta h "
   ]
  },
  {
   "cell_type": "code",
   "execution_count": 3,
   "id": "62ff05f3-aa27-4bd1-8eb7-7959bab7ee58",
   "metadata": {},
   "outputs": [
    {
     "name": "stdout",
     "output_type": "stream",
     "text": [
      "1.599839687347412\n"
     ]
    }
   ],
   "source": [
    "import time \n",
    "#normal array \n",
    "x = range(10000000)\n",
    "y = range (10000000, 20000000)\n",
    "start_time = time.time()\n",
    "c = [x + y for x, y in zip(x, y)]\n",
    "print(time.time() - start_time)"
   ]
  },
  {
   "cell_type": "code",
   "execution_count": 4,
   "id": "fda6c3a1-8d51-4e9b-abec-9d81f44fe1fa",
   "metadata": {},
   "outputs": [
    {
     "name": "stdout",
     "output_type": "stream",
     "text": [
      "0.13956499099731445\n"
     ]
    }
   ],
   "source": [
    "#numpy arrays ko usekrke hum  time lagta h for execution \n",
    "a = np.arange(10000000)\n",
    "b = np.arange(10000000, 20000000)\n",
    "start_time = time.time() \n",
    "c = a+b\n",
    "print(time.time() -start_time)"
   ]
  },
  {
   "cell_type": "markdown",
   "id": "933d08f0-0d4b-4732-8667-42cc9b39553d",
   "metadata": {},
   "source": [
    "INDEXING Iteration and slicing "
   ]
  },
  {
   "cell_type": "code",
   "execution_count": 5,
   "id": "61bae59c-57e2-43b2-8dec-c3f26547d5e2",
   "metadata": {},
   "outputs": [
    {
     "data": {
      "text/plain": [
       "array([[ 0,  1,  2,  3],\n",
       "       [ 4,  5,  6,  7],\n",
       "       [ 8,  9, 10, 11],\n",
       "       [12, 13, 14, 15],\n",
       "       [16, 17, 18, 19],\n",
       "       [20, 21, 22, 23]])"
      ]
     },
     "execution_count": 5,
     "metadata": {},
     "output_type": "execute_result"
    }
   ],
   "source": [
    "arr= np.arange(24).reshape(6,4)\n",
    "arr"
   ]
  },
  {
   "cell_type": "code",
   "execution_count": 6,
   "id": "c65efd4b-9b7e-4ae6-89ca-6a47f74958fd",
   "metadata": {},
   "outputs": [
    {
     "data": {
      "text/plain": [
       "array([[10, 11],\n",
       "       [14, 15]])"
      ]
     },
     "execution_count": 6,
     "metadata": {},
     "output_type": "execute_result"
    }
   ],
   "source": [
    "arr[ 2:4, 2:4]"
   ]
  },
  {
   "cell_type": "code",
   "execution_count": 7,
   "id": "1e90d45f-b794-435a-8d24-4e01ce3d5a20",
   "metadata": {},
   "outputs": [
    {
     "name": "stdout",
     "output_type": "stream",
     "text": [
      "[0 1 2 3]\n",
      "[4 5 6 7]\n",
      "[ 8  9 10 11]\n",
      "[12 13 14 15]\n",
      "[16 17 18 19]\n",
      "[20 21 22 23]\n"
     ]
    }
   ],
   "source": [
    "#Iteration \n",
    "for i in arr:\n",
    "    print(i)"
   ]
  },
  {
   "cell_type": "code",
   "execution_count": 8,
   "id": "3297b64a-4bbc-4958-a625-3d5a06cef132",
   "metadata": {},
   "outputs": [
    {
     "name": "stdout",
     "output_type": "stream",
     "text": [
      "0\n",
      "1\n",
      "2\n",
      "3\n",
      "4\n",
      "5\n",
      "6\n",
      "7\n",
      "8\n",
      "9\n",
      "10\n",
      "11\n",
      "12\n",
      "13\n",
      "14\n",
      "15\n",
      "16\n",
      "17\n",
      "18\n",
      "19\n",
      "20\n",
      "21\n",
      "22\n",
      "23\n"
     ]
    }
   ],
   "source": [
    "for i in np.nditer(arr):\n",
    "    print(i)"
   ]
  },
  {
   "cell_type": "markdown",
   "id": "e4111ac2-2ac0-45d0-8456-90a1ee726391",
   "metadata": {},
   "source": [
    "Lecture 7: operations "
   ]
  },
  {
   "cell_type": "code",
   "execution_count": 9,
   "id": "20196428-5fc6-4076-a7c7-00411df98946",
   "metadata": {},
   "outputs": [
    {
     "data": {
      "text/plain": [
       "array([-3, -3, -3, -3, -3, -3])"
      ]
     },
     "execution_count": 9,
     "metadata": {},
     "output_type": "execute_result"
    }
   ],
   "source": [
    "arr1= np.array([1, 2,3,4,5,6])\n",
    "arr2= np.array([4, 5,6,7,8, 9])\n",
    "arr1-arr2"
   ]
  },
  {
   "cell_type": "code",
   "execution_count": 10,
   "id": "2dd02021-ca1e-46f5-a4a0-837eb613e0b6",
   "metadata": {},
   "outputs": [
    {
     "data": {
      "text/plain": [
       "array([ 5,  7,  9, 11, 13, 15])"
      ]
     },
     "execution_count": 10,
     "metadata": {},
     "output_type": "execute_result"
    }
   ],
   "source": [
    "arr1+arr2"
   ]
  },
  {
   "cell_type": "code",
   "execution_count": 11,
   "id": "1e0ce480-e49f-435d-9d42-24c4edb03ef0",
   "metadata": {},
   "outputs": [
    {
     "data": {
      "text/plain": [
       "array([False, False, False,  True,  True,  True])"
      ]
     },
     "execution_count": 11,
     "metadata": {},
     "output_type": "execute_result"
    }
   ],
   "source": [
    "arr1>3"
   ]
  },
  {
   "cell_type": "code",
   "execution_count": 12,
   "id": "12083c77-8bd2-4477-85ac-8da85b48cabc",
   "metadata": {},
   "outputs": [
    {
     "data": {
      "text/plain": [
       "array([[ 28,  31],\n",
       "       [100, 112]])"
      ]
     },
     "execution_count": 12,
     "metadata": {},
     "output_type": "execute_result"
    }
   ],
   "source": [
    "#dot product but order match hona chahiye \n",
    "arr3 = np.arange(6).reshape(2, 3)\n",
    "arr4 = np.arange(6,12).reshape(3,2)\n",
    "arr3.dot(arr4)"
   ]
  },
  {
   "cell_type": "code",
   "execution_count": 13,
   "id": "336289fd-57d2-4376-89be-f15178ddf633",
   "metadata": {},
   "outputs": [
    {
     "data": {
      "text/plain": [
       "11"
      ]
     },
     "execution_count": 13,
     "metadata": {},
     "output_type": "execute_result"
    }
   ],
   "source": [
    "arr4.max()\n"
   ]
  },
  {
   "cell_type": "code",
   "execution_count": 14,
   "id": "c84f8aed-f611-47a8-be6b-b177a117114e",
   "metadata": {},
   "outputs": [
    {
     "data": {
      "text/plain": [
       "array([[  403.42879349,  1096.63315843],\n",
       "       [ 2980.95798704,  8103.08392758],\n",
       "       [22026.46579481, 59874.1417152 ]])"
      ]
     },
     "execution_count": 14,
     "metadata": {},
     "output_type": "execute_result"
    }
   ],
   "source": [
    "arr4.mean()#mean nikalega of the whole data \n",
    "arr4.std() # yeh standard deviation nikalke dega\n",
    "np.sin(arr4)#np.median(arr4)\n",
    "np.exp(arr4)#exponent function h"
   ]
  },
  {
   "cell_type": "markdown",
   "id": "7061e865-a5ac-44c8-b73f-655c564396dd",
   "metadata": {},
   "source": [
    "Reshaping numpy arrays "
   ]
  },
  {
   "cell_type": "code",
   "execution_count": 15,
   "id": "212e7737-d9ca-4d99-b2e8-a171e7ea062f",
   "metadata": {},
   "outputs": [
    {
     "data": {
      "text/plain": [
       "array([ 6,  7,  8,  9, 10, 11])"
      ]
     },
     "execution_count": 15,
     "metadata": {},
     "output_type": "execute_result"
    }
   ],
   "source": [
    "arr4.ndim #dimention deta h \n",
    "arr4.ravel()# yeh use kreke hum shape shneg kr sakteh "
   ]
  },
  {
   "cell_type": "code",
   "execution_count": 16,
   "id": "a95dbc91-c143-4af0-a679-6840b67eee0a",
   "metadata": {},
   "outputs": [
    {
     "data": {
      "text/plain": [
       "array([[ 6,  8, 10],\n",
       "       [ 7,  9, 11]])"
      ]
     },
     "execution_count": 16,
     "metadata": {},
     "output_type": "execute_result"
    }
   ],
   "source": [
    "arr4.transpose()\n",
    "#rows ka column and columsn ka row ho jayenga "
   ]
  },
  {
   "cell_type": "code",
   "execution_count": 17,
   "id": "667c5dee-c2f0-49cf-ab02-e75d3b6145d3",
   "metadata": {},
   "outputs": [
    {
     "data": {
      "text/plain": [
       "array([[ 0,  1,  2, 12, 13, 14],\n",
       "       [ 3,  4,  5, 15, 16, 17]])"
      ]
     },
     "execution_count": 17,
     "metadata": {},
     "output_type": "execute_result"
    }
   ],
   "source": [
    "#stacking se do array ko combine kr sakte ho \n",
    "arr5 = np.arange(12, 18).reshape(2,3)\n",
    "np.hstack((arr3, arr5))"
   ]
  },
  {
   "cell_type": "code",
   "execution_count": 18,
   "id": "0df753be-2c5a-4369-9a38-ee29ddead71f",
   "metadata": {},
   "outputs": [
    {
     "data": {
      "text/plain": [
       "array([[ 0,  1,  2],\n",
       "       [ 3,  4,  5],\n",
       "       [12, 13, 14],\n",
       "       [15, 16, 17]])"
      ]
     },
     "execution_count": 18,
     "metadata": {},
     "output_type": "execute_result"
    }
   ],
   "source": [
    "np.vstack((arr3, arr5))"
   ]
  },
  {
   "cell_type": "code",
   "execution_count": 19,
   "id": "0b979fa2-71d4-4786-b109-e4ec17d05cd2",
   "metadata": {},
   "outputs": [
    {
     "data": {
      "text/plain": [
       "[array([[0],\n",
       "        [3]]),\n",
       " array([[1],\n",
       "        [4]]),\n",
       " array([[2],\n",
       "        [5]])]"
      ]
     },
     "execution_count": 19,
     "metadata": {},
     "output_type": "execute_result"
    }
   ],
   "source": [
    "#splitting \n",
    "np.hsplit(arr3,3)# array 3 ko horizontally split karenge "
   ]
  },
  {
   "cell_type": "markdown",
   "id": "70df567a-1717-4d96-8992-2d32ed32589d",
   "metadata": {},
   "source": [
    "fancy indexing "
   ]
  },
  {
   "cell_type": "code",
   "execution_count": 20,
   "id": "08b22a5a-228e-4c29-8ecc-3f29370e76db",
   "metadata": {},
   "outputs": [
    {
     "data": {
      "text/plain": [
       "array([[ 0,  1,  2,  3],\n",
       "       [ 4,  5,  6,  7],\n",
       "       [ 8,  9, 10, 11],\n",
       "       [12, 13, 14, 15],\n",
       "       [16, 17, 18, 19],\n",
       "       [20, 21, 22, 23]])"
      ]
     },
     "execution_count": 20,
     "metadata": {},
     "output_type": "execute_result"
    }
   ],
   "source": [
    "arr6 = np.arange(24).reshape(6, 4)\n",
    "arr6"
   ]
  },
  {
   "cell_type": "code",
   "execution_count": 21,
   "id": "404750ac-fc83-4146-a868-82c0e6a3929f",
   "metadata": {},
   "outputs": [
    {
     "data": {
      "text/plain": [
       "array([[ 4,  5,  6,  7],\n",
       "       [12, 13, 14, 15],\n",
       "       [20, 21, 22, 23]])"
      ]
     },
     "execution_count": 21,
     "metadata": {},
     "output_type": "execute_result"
    }
   ],
   "source": [
    "#ab mujhe 1, 3 and 5th row chahiye \n",
    "#fancy indexing use kr sakte h \n",
    "arr6[[1, 3, 5]]"
   ]
  },
  {
   "cell_type": "markdown",
   "id": "f5d3e8a7-8280-41cf-ba6f-f0476a0d6f72",
   "metadata": {},
   "source": [
    "Indexing with boolean arrays "
   ]
  },
  {
   "cell_type": "code",
   "execution_count": 22,
   "id": "b5f9d04d-4f2b-4dcd-a455-c05a7c04e63f",
   "metadata": {},
   "outputs": [
    {
     "data": {
      "text/plain": [
       "array([[41, 18, 25, 88, 48],\n",
       "       [85,  8, 89, 35, 42],\n",
       "       [12, 46, 61, 34, 44],\n",
       "       [97, 43, 63,  6, 20]])"
      ]
     },
     "execution_count": 22,
     "metadata": {},
     "output_type": "execute_result"
    }
   ],
   "source": [
    "arr7 = np.random.randint(low= 1, high = 100, size= 20).reshape(4, 5)\n",
    "arr7"
   ]
  },
  {
   "cell_type": "code",
   "execution_count": 23,
   "id": "f34ba96c-8c4c-4a44-bd00-49888e23de22",
   "metadata": {},
   "outputs": [
    {
     "data": {
      "text/plain": [
       "array([[False, False, False,  True, False],\n",
       "       [ True, False,  True, False, False],\n",
       "       [False, False,  True, False, False],\n",
       "       [ True, False,  True, False, False]])"
      ]
     },
     "execution_count": 23,
     "metadata": {},
     "output_type": "execute_result"
    }
   ],
   "source": [
    "arr7> 50"
   ]
  },
  {
   "cell_type": "code",
   "execution_count": 24,
   "id": "2fb248cf-1a50-4838-abeb-5ded39f75866",
   "metadata": {},
   "outputs": [
    {
     "data": {
      "text/plain": [
       "array([88, 85, 89, 61, 97, 63])"
      ]
     },
     "execution_count": 24,
     "metadata": {},
     "output_type": "execute_result"
    }
   ],
   "source": [
    "#ab yaha ek boolena array generate ho gaya h \n",
    "arr7[arr7>50]#isko hum bolte h indexing using boolean array "
   ]
  },
  {
   "cell_type": "code",
   "execution_count": 25,
   "id": "5653b6ee-5325-4132-9fb7-04cecb44376c",
   "metadata": {},
   "outputs": [
    {
     "data": {
      "text/plain": [
       "array([[41, 18, 25, 88, 48],\n",
       "       [ 0,  8,  0, 35, 42],\n",
       "       [12, 46,  0, 34, 44],\n",
       "       [ 0, 43,  0,  6, 20]])"
      ]
     },
     "execution_count": 25,
     "metadata": {},
     "output_type": "execute_result"
    }
   ],
   "source": [
    "#ab agar hume jo element chahiye o 50 se bade h aur sath me odd numbers bhi h \n",
    "arr7[(arr7>50) & (arr7%2!=0)] = 0\n",
    "arr7 # yaha hume jab isko = 0 kiya toh vo condition wale elements 0 se replace ho gaye h "
   ]
  },
  {
   "cell_type": "markdown",
   "id": "a3b080c4-6a08-4470-bbc4-33206a8b43a8",
   "metadata": {},
   "source": [
    "Plotting graphs using the numpy arrays \n"
   ]
  },
  {
   "cell_type": "code",
   "execution_count": 26,
   "id": "cdefe7f6-0314-469c-a765-514a1192e619",
   "metadata": {},
   "outputs": [],
   "source": [
    "#hum ek numpy array create karenge jisme-40 se 40 tk 100 numbers hoge aur vo numbers linearl spaced honge \n",
    "x = np.linspace(-40, 40, 100)"
   ]
  },
  {
   "cell_type": "code",
   "execution_count": 27,
   "id": "b2b8aac7-98a1-4d86-a813-9f47521761a8",
   "metadata": {},
   "outputs": [
    {
     "data": {
      "text/plain": [
       "array([-40.        , -39.19191919, -38.38383838, -37.57575758,\n",
       "       -36.76767677, -35.95959596, -35.15151515, -34.34343434,\n",
       "       -33.53535354, -32.72727273, -31.91919192, -31.11111111,\n",
       "       -30.3030303 , -29.49494949, -28.68686869, -27.87878788,\n",
       "       -27.07070707, -26.26262626, -25.45454545, -24.64646465,\n",
       "       -23.83838384, -23.03030303, -22.22222222, -21.41414141,\n",
       "       -20.60606061, -19.7979798 , -18.98989899, -18.18181818,\n",
       "       -17.37373737, -16.56565657, -15.75757576, -14.94949495,\n",
       "       -14.14141414, -13.33333333, -12.52525253, -11.71717172,\n",
       "       -10.90909091, -10.1010101 ,  -9.29292929,  -8.48484848,\n",
       "        -7.67676768,  -6.86868687,  -6.06060606,  -5.25252525,\n",
       "        -4.44444444,  -3.63636364,  -2.82828283,  -2.02020202,\n",
       "        -1.21212121,  -0.4040404 ,   0.4040404 ,   1.21212121,\n",
       "         2.02020202,   2.82828283,   3.63636364,   4.44444444,\n",
       "         5.25252525,   6.06060606,   6.86868687,   7.67676768,\n",
       "         8.48484848,   9.29292929,  10.1010101 ,  10.90909091,\n",
       "        11.71717172,  12.52525253,  13.33333333,  14.14141414,\n",
       "        14.94949495,  15.75757576,  16.56565657,  17.37373737,\n",
       "        18.18181818,  18.98989899,  19.7979798 ,  20.60606061,\n",
       "        21.41414141,  22.22222222,  23.03030303,  23.83838384,\n",
       "        24.64646465,  25.45454545,  26.26262626,  27.07070707,\n",
       "        27.87878788,  28.68686869,  29.49494949,  30.3030303 ,\n",
       "        31.11111111,  31.91919192,  32.72727273,  33.53535354,\n",
       "        34.34343434,  35.15151515,  35.95959596,  36.76767677,\n",
       "        37.57575758,  38.38383838,  39.19191919,  40.        ])"
      ]
     },
     "execution_count": 27,
     "metadata": {},
     "output_type": "execute_result"
    }
   ],
   "source": [
    "x\n"
   ]
  },
  {
   "cell_type": "code",
   "execution_count": 28,
   "id": "c68219e2-228c-478b-a132-34c7892808af",
   "metadata": {},
   "outputs": [
    {
     "data": {
      "text/plain": [
       "100"
      ]
     },
     "execution_count": 28,
     "metadata": {},
     "output_type": "execute_result"
    }
   ],
   "source": [
    "x.size"
   ]
  },
  {
   "cell_type": "code",
   "execution_count": 29,
   "id": "f1702258-839c-4cbf-acf3-2631d4a5557a",
   "metadata": {},
   "outputs": [],
   "source": [
    "y = np.sin(x)"
   ]
  },
  {
   "cell_type": "code",
   "execution_count": 30,
   "id": "bdb4b0c8-b5e0-4f59-8331-cbaaf19e976d",
   "metadata": {},
   "outputs": [
    {
     "data": {
      "text/plain": [
       "100"
      ]
     },
     "execution_count": 30,
     "metadata": {},
     "output_type": "execute_result"
    }
   ],
   "source": [
    "y.size"
   ]
  },
  {
   "cell_type": "code",
   "execution_count": 31,
   "id": "b21cf74f-ba91-49c4-801d-fb359942dae8",
   "metadata": {},
   "outputs": [],
   "source": [
    "import matplotlib.pyplot as plt\n",
    "#lin is matplotlib uska ek sub library h pyplot \n",
    "#ye use nahi kiya toh graph create hota h pr print nahi hota \n",
    "%matplotlib inline "
   ]
  },
  {
   "cell_type": "code",
   "execution_count": 32,
   "id": "52f80b63-142d-4d52-b960-98a783007615",
   "metadata": {},
   "outputs": [
    {
     "data": {
      "text/plain": [
       "[<matplotlib.lines.Line2D at 0x18c0ee98fe0>]"
      ]
     },
     "execution_count": 32,
     "metadata": {},
     "output_type": "execute_result"
    },
    {
     "data": {
      "image/png": "[encoded data removed]",
      "text/plain": [
       "<Figure size 640x480 with 1 Axes>"
      ]
     },
     "metadata": {},
     "output_type": "display_data"
    }
   ],
   "source": [
    "plt.plot(x, y) \n",
    "#wll get the sine grah "
   ]
  },
  {
   "cell_type": "code",
   "execution_count": 33,
   "id": "636d247a-e37d-45a6-9dd5-2b941a85ab62",
   "metadata": {},
   "outputs": [
    {
     "data": {
      "text/plain": [
       "[<matplotlib.lines.Line2D at 0x18c1108b7a0>]"
      ]
     },
     "execution_count": 33,
     "metadata": {},
     "output_type": "execute_result"
    },
    {
     "data": {
      "image/png": "[encoded data removed]",
      "text/plain": [
       "<Figure size 640x480 with 1 Axes>"
      ]
     },
     "metadata": {},
     "output_type": "display_data"
    }
   ],
   "source": [
    "y = x*x + 2*x\n",
    "plt.plot(x, y)"
   ]
  },
  {
   "cell_type": "code",
   "execution_count": null,
   "id": "58c358d6-9d8c-41fa-b269-7cb254b69939",
   "metadata": {},
   "outputs": [],
   "source": []
  },
  {
   "cell_type": "markdown",
   "id": "a2113937-86a9-47dd-9804-af2c366b5a39",
   "metadata": {},
   "source": [
    "Broadcasting: It is the ability of the numpy arrays to perform the operations on the disimilar arrays \n",
    "isme jo bhi small array hota h vo bade array ka shape repeat krke le leta h aur fir operation perform krta h \n",
    "\n",
    "Rules for broadcasting:\n",
    "1. x= m and y = n then operation will take place\n",
    "2. If x = 1 and y = n then also operation will take place (same Dimensions)\n"
   ]
  },
  {
   "cell_type": "code",
   "execution_count": 34,
   "id": "13cd597c-cd93-482c-83e4-15c8ab7991f1",
   "metadata": {},
   "outputs": [
    {
     "data": {
      "text/plain": [
       "0.29171053323561447"
      ]
     },
     "execution_count": 34,
     "metadata": {},
     "output_type": "execute_result"
    }
   ],
   "source": [
    "#Numpy functions \n",
    "#1. Random module \n",
    "np.random.random()"
   ]
  },
  {
   "cell_type": "code",
   "execution_count": 35,
   "id": "ac74752b-d2c0-40d5-8a56-ddeb5e0e21ba",
   "metadata": {},
   "outputs": [
    {
     "data": {
      "text/plain": [
       "0.417022004702574"
      ]
     },
     "execution_count": 35,
     "metadata": {},
     "output_type": "execute_result"
    }
   ],
   "source": [
    "#yeh random value ko bhii aggar constant krna h toh  seeed ka use krte h \n",
    "np.random.seed(1)\n",
    "np.random.random()"
   ]
  },
  {
   "cell_type": "code",
   "execution_count": 36,
   "id": "3c997391-08f5-44a3-91f1-232545133893",
   "metadata": {},
   "outputs": [
    {
     "data": {
      "text/plain": [
       "array([ 1.01132311, 30.93092469, 15.52883319, 10.14152088, 19.43976093,\n",
       "       35.21051198, 40.27997995, 54.34285667, 42.50025693, 68.83673054])"
      ]
     },
     "execution_count": 36,
     "metadata": {},
     "output_type": "execute_result"
    }
   ],
   "source": [
    "#2. Uniform function \n",
    "np.random.uniform(3, 10)\n",
    "#10 random values between 1 to 100 \n",
    "np.random.uniform(1, 100, 10)\n",
    "#ka use ek specified range (low to high) ke beech uniformly distributed random floating-point numbers generate karne ke liye hota hai. 🚀"
   ]
  },
  {
   "cell_type": "code",
   "execution_count": 37,
   "id": "11c8ebdb-dbe2-4b79-8fc0-9ba70f9422e3",
   "metadata": {},
   "outputs": [
    {
     "data": {
      "text/plain": [
       "array([[21.24077272, 87.9336262 ,  3.71137173, 67.37628351, 42.31317543],\n",
       "       [56.31029302, 14.89830692, 20.61204742, 80.2737123 , 96.857896  ]])"
      ]
     },
     "execution_count": 37,
     "metadata": {},
     "output_type": "execute_result"
    }
   ],
   "source": [
    "np.random.uniform(1, 100, 10).reshape(2, 5)"
   ]
  },
  {
   "cell_type": "code",
   "execution_count": 38,
   "id": "4f3c5024-7d8a-4b1a-9c9a-b22f91d8bf34",
   "metadata": {},
   "outputs": [
    {
     "data": {
      "text/plain": [
       "array([[7, 2, 1, 2, 9],\n",
       "       [9, 4, 9, 8, 4],\n",
       "       [7, 6, 2, 4, 5]])"
      ]
     },
     "execution_count": 38,
     "metadata": {},
     "output_type": "execute_result"
    }
   ],
   "source": [
    "#inorder to generate the int values will use the random.randint\n",
    "np.random.randint(1, 10, 15).reshape(3, 5) "
   ]
  },
  {
   "cell_type": "code",
   "execution_count": 39,
   "id": "68198acc-9488-435e-b49c-57f431f6544b",
   "metadata": {},
   "outputs": [
    {
     "data": {
      "text/plain": [
       "array([[9, 2, 5],\n",
       "       [1, 4, 3],\n",
       "       [1, 5, 3]])"
      ]
     },
     "execution_count": 39,
     "metadata": {},
     "output_type": "execute_result"
    }
   ],
   "source": [
    "#max o f a aarray \n",
    "a = np.random.randint(1, 10, 9).reshape(3, 3)\n",
    "a"
   ]
  },
  {
   "cell_type": "code",
   "execution_count": 40,
   "id": "35e63ab5-7e05-4f37-8562-e880455d053e",
   "metadata": {},
   "outputs": [
    {
     "data": {
      "text/plain": [
       "0"
      ]
     },
     "execution_count": 40,
     "metadata": {},
     "output_type": "execute_result"
    }
   ],
   "source": [
    "np.max(a)\n",
    "np.argmax(a)\n",
    "#here the ar will give hte indxe for the value "
   ]
  },
  {
   "cell_type": "code",
   "execution_count": 41,
   "id": "4b22818f-ca61-469e-97d5-9eb46fdb7b55",
   "metadata": {},
   "outputs": [
    {
     "data": {
      "text/plain": [
       "array([8, 8, 9, 7, 4, 8])"
      ]
     },
     "execution_count": 41,
     "metadata": {},
     "output_type": "execute_result"
    }
   ],
   "source": [
    "#replace al the odd digits by -1\n",
    "arr8  = np.random.randint(1, 10, 6)\n",
    "arr8"
   ]
  },
  {
   "cell_type": "code",
   "execution_count": 42,
   "id": "3c4090f3-27b1-4615-836c-aa666c187b60",
   "metadata": {},
   "outputs": [
    {
     "data": {
      "text/plain": [
       "array([ 8,  8, -1, -1,  4,  8])"
      ]
     },
     "execution_count": 42,
     "metadata": {},
     "output_type": "execute_result"
    }
   ],
   "source": [
    "arr8[arr8%2== 1] = -1\n",
    "arr8"
   ]
  },
  {
   "cell_type": "code",
   "execution_count": null,
   "id": "6693a873-c566-4248-b24d-3b9d63d80c64",
   "metadata": {},
   "outputs": [],
   "source": []
  }
 ],
 "metadata": {
  "kernelspec": {
   "display_name": "Python 3 (ipykernel)",
   "language": "python",
   "name": "python3"
  },
  "language_info": {
   "codemirror_mode": {
    "name": "ipython",
    "version": 3
   },
   "file_extension": ".py",
   "mimetype": "text/x-python",
   "name": "python",
   "nbconvert_exporter": "python",
   "pygments_lexer": "ipython3",
   "version": "3.12.2"
  }
 },
 "nbformat": 4,
 "nbformat_minor": 5
}
